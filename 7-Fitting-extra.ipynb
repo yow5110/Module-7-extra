{
 "cells": [
  {
   "cell_type": "markdown",
   "id": "9bbe4794",
   "metadata": {},
   "source": [
    "# Module 7, Numerical fitting applications: Estimating $H_0$ from Type Ia Supernovae\n",
    "(Partially adapted from Landau 2015 Chapter 7 and course notes from AST 390: Computational Astrophysics by Michael Zingale, SUNY Stony Brook)"
   ]
  },
  {
   "cell_type": "markdown",
   "id": "c3df6f2b-5f0e-4993-9b9a-6c0fea6d3ba6",
   "metadata": {},
   "source": [
    "Time to apply our numerical fitting tools to a specific problem! In this project we'll be estimating the Hubble constant from Type Ia supernovae.  \n",
    "\n",
    "Type Ia supernovae are often used as \"Standard Candles\" to measure cosmological distances.  By measuring how long it takes for the supernova to dim we can emperically determine its brightness via the [Phillips relation](https://en.wikipedia.org/wiki/Phillips_relationship). We will use data from the paper [_Spectra and Hubble Space Telescope Light Curves of Six Type Ia Supernovae at 0.511 < z < 1.12 and the Union2 Compilation_](https://ui.adsabs.harvard.edu/abs/2010ApJ...716..712A/abstract) by Amanullah et al. including ~ 500 Type Ia supernovae.\n",
    "\n",
    "(Note: that paper does a more sophisticated analysis than what we are going to do, and they fit for other cosmological parameters as well, so we will not get the same answer as they do.)"
   ]
  },
  {
   "cell_type": "markdown",
   "id": "c0eb166a-16c3-417f-b353-7d3c10659c9f",
   "metadata": {},
   "source": [
    "The dataset **SCPUnion2_mu_vs_z.txt** in your working directory has 4 columns:\n",
    "* supernova identifier\n",
    "* redshift (dimensionless, fractional change in wavelength), $z$ \n",
    "* distance modulus (dimensionless), $\\mu$\n",
    "* uncertainty in $\\mu$ (dimensionless)\n",
    "\n",
    "<div class=\"span alert alert-success\">\n",
    "\n",
    "Read the data file **SCPUnion2_mu_vs_z.txt** and extract the columns for the redshift $z$ and the distance modulus $\\mu$. If you are using np.loadtxt() you'll probably run into an error since the first column of the data is a bunch of text strings (which labels the supernovae). \n",
    "    \n",
    "Try to find a workaround: for example, is there an optional argument in loadtxt() that allows ignoring columns? Or can we let loadtxt() know the formats of the data in each column?\n",
    "    \n",
    "Then let's plot the distance modulus $\\mu$ vs redshift $z$."
   ]
  },
  {
   "cell_type": "markdown",
   "id": "0a813664-24a7-4252-84c9-c7c2435eebbd",
   "metadata": {},
   "source": [
    "The [distance modulus](https://en.wikipedia.org/wiki/Distance_modulus) of a supernova is related to its [luminosity distance](https://en.wikipedia.org/wiki/Luminosity_distance)  $d$ to earth by\n",
    "\n",
    "$$\\mu =  5 \\log_{10} \\left (\\frac{d}{10~\\mbox{pc}}\\right )= 5 \\log_{10} \\left (\\frac{d}{1~\\mbox{Mpc}}\\right ) + 25$$\n",
    "\n",
    "In an expanding Universe, $d$ can be expressed via an expansion in redshift $z$, as (for $z \\ll 1$):\n",
    "\n",
    "$$d \\approx \\frac{c}{H_0} \\left [ z + \\frac{1}{2} (1 - q_0) z^2 + \\ldots \\right ]$$\n",
    "\n",
    "Here $c$ is the speed of light, $H_0$ is the [Hubble constant](https://en.wikipedia.org/wiki/Hubble%27s_law), and $q_0$ is the [deceleration parameter](https://en.wikipedia.org/wiki/Deceleration_parameter). Therefore, if we can fit our $\\mu$ versus $z$ data, we'll be able to estimate the Hubble constant $H_0$. Combining the two relations above, we want to fit:\n",
    "\n",
    "$$\\mu = 5\\log_{10} \\left (\\frac{cz}{H_0 \\cdot 1~\\mbox{Mpc}} \\left [1 + \\frac{1}{2} (1 - q_0) z \\right ] \\right ) + 25$$\n",
    "\n",
    "which we'll write as:\n",
    "\n",
    "$$\\mu = 5\\log_{10} \\left (a_0 z \\left [1 + \\frac{1}{2} (1 - a_1) z \\right ] \\right ) + 25$$\n",
    "\n",
    "This is a nonlinear equation in terms of the fit parameters $a_0$ and $a_1$.  Once we get $a_0$, we can get the Hubble constant as:\n",
    "\n",
    "$$H_0 = \\frac{c}{a_0 \\cdot 1~\\mbox{Mpc}}$$"
   ]
  },
  {
   "cell_type": "markdown",
   "id": "ebc401a6",
   "metadata": {
    "tags": []
   },
   "source": [
    "<div class=\"span alert alert-success\">\n",
    "\n",
    "Use leastsq() to complete the fit and estimate the Hubble constant $H_0$. Make sure that $H_0$ is in units of km/s/Mpc. How does it compare with a reference value you can find on Wikipedia? \n",
    "    \n",
    "Finally, plot your fit against all data points.\n"
   ]
  },
  {
   "cell_type": "markdown",
   "id": "7f6e7ba6",
   "metadata": {},
   "source": [
    "## Controlling bias and variance\n",
    "\n",
    "It's not always the case that we have an analytical equation from an existing theory framework to fit our data. In these cases we would often perform exploratory fits using e.g. polynomials to obtain an empirical trend for the time being. \n",
    "\n",
    "We can certainly continue to use scipy.optimize.leastsq() to fit our data to polynomials, but we'd like to take things up a notch by introducing the popular machine-learning toolkit **scikit-learn**, which you already have in your Anaconda distribution. The following template fits a shortened $\\mu$ versus $z$ data we worked with above, and fits a 2nd-order polynomial (i.e. $ax^2+bx+c$) to it. The fitted 2nd-order polynomial will be called our \"model\", and can be used to predict $\\mu$ values for any $z$.\n",
    "\n",
    "(Note that $z$ needs to be maintained as a n$\\times$1 column vector at all times, except when used in plotting)."
   ]
  },
  {
   "cell_type": "code",
   "execution_count": 185,
   "id": "d66402dc",
   "metadata": {},
   "outputs": [
    {
     "data": {
      "text/plain": [
       "[<matplotlib.lines.Line2D at 0x7fcc4290c280>]"
      ]
     },
     "execution_count": 185,
     "metadata": {},
     "output_type": "execute_result"
    },
    {
     "data": {
      "image/png": "[encoded data removed]",
      "text/plain": [
       "<Figure size 640x480 with 1 Axes>"
      ]
     },
     "metadata": {},
     "output_type": "display_data"
    }
   ],
   "source": [
    "data=np.loadtxt('mu_vs_z.dat')\n",
    "\n",
    "from sklearn.preprocessing import PolynomialFeatures\n",
    "from sklearn.linear_model import LinearRegression\n",
    "from sklearn.pipeline import make_pipeline\n",
    "\n",
    "def PolynomialRegression(degree=2, **kwargs):\n",
    "    return make_pipeline(PolynomialFeatures(degree),\n",
    "                         LinearRegression(**kwargs))\n",
    "\n",
    "Z=data[:,0]\n",
    "Z=Z.reshape(-1,1)\n",
    "M=data[:,1]\n",
    "\n",
    "xfit = np.linspace(0.01, 0.185, 1000).reshape(-1,1)\n",
    "model1 = PolynomialRegression(2).fit(Z, M)\n",
    "\n",
    "plt.scatter(Z.flatten(), M, s=40)\n",
    "plt.plot(xfit.flatten(), model1.predict(xfit), color='gray')"
   ]
  },
  {
   "cell_type": "markdown",
   "id": "c366574e",
   "metadata": {},
   "source": [
    "<div class=\"span alert alert-success\">\n",
    "Follow the example above and perform a 10th-order polynomial fit to our data. You should see a more wiggly curve."
   ]
  },
  {
   "cell_type": "markdown",
   "id": "93eb4eca",
   "metadata": {},
   "source": [
    "The 10th-order polynomial fit is definitely more accurate since it tries to go through all the data points better than our 2nd-order polynomial fit. But is higher accuracy really helpful?  Towards higher $z$ we see that the 10th-order fit is just twisting itself to go through as many points as possible. In reality we know that the trend we're trying to fit is likely monotonic and smooth. We also know that we don't need to fit through every single data point since every data point has some measurement uncertainty. So we're faced with the following conumdrum:\n",
    "\n",
    "**If we fit with a low-order polynomial, our fit would not be good since it would miss many data points.** This is called **high bias**.\n",
    "\n",
    "**If we fit with a high-order  polynomial, our fit would not be good since it would try to artificially wiggle its way through all the points and lose its generalizability.** This is called high **high variance**.\n",
    "\n",
    "Of course there's a sweet spot in between these two extremes. At what polynomial order do we stop? We can prevent the fitting procedure from seeing all the data by setting aside a **holdout set** (also known as a **validation set**): that is, we hold back some subset of the data from the fitting process, and then use this holdout set to check the model performance. This splitting can be done using the **train_test_split** utility in **Scikit-Learn**."
   ]
  },
  {
   "cell_type": "code",
   "execution_count": null,
   "id": "dfd491a0",
   "metadata": {},
   "outputs": [],
   "source": [
    "from sklearn.model_selection import train_test_split\n",
    "\n",
    "# split the data with 50% in each set\n",
    "X1, X2, y1, y2 = train_test_split(Z, M, random_state=0,\n",
    "                                  train_size=0.5)\n",
    "\n",
    "# fit a 2nd-order polynomial model on one set of data\n",
    "model = PolynomialRegression(2).fit(X1, y1)\n",
    "\n",
    "# evaluate the model on the second set of validation data\n",
    "y2_model = model.predict(X2)\n",
    "error = np.mean((model.predict(X2)-y2)**2)\n",
    "error"
   ]
  },
  {
   "cell_type": "markdown",
   "id": "526f7aa6",
   "metadata": {},
   "source": [
    "<div class=\"span alert alert-success\">\n",
    "Write a loop to repeat the process above for increasing orders of polynomial and calculate the error for each. Use a train_size of 80%. Identify where the minimum of the error is – that's where our polynomial fit is best!\n",
    "</div>"
   ]
  }
 ],
 "metadata": {
  "kernelspec": {
   "display_name": "Python 3 (ipykernel)",
   "language": "python",
   "name": "python3"
  },
  "language_info": {
   "codemirror_mode": {
    "name": "ipython",
    "version": 3
   },
   "file_extension": ".py",
   "mimetype": "text/x-python",
   "name": "python",
   "nbconvert_exporter": "python",
   "pygments_lexer": "ipython3",
   "version": "3.9.13"
  }
 },
 "nbformat": 4,
 "nbformat_minor": 5
}
